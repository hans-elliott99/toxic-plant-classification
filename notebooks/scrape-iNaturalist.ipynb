{
 "cells": [
  {
   "cell_type": "code",
   "execution_count": 39,
   "metadata": {},
   "outputs": [],
   "source": [
    "# web scraping\n",
    "from selenium import webdriver\n",
    "from selenium.webdriver.common.by import By\n",
    "import requests\n",
    "## https://stackoverflow.com/questions/64717302/deprecationwarning-executable-path-has-been-deprecated-selenium-python\n",
    "\n",
    "# images\n",
    "import PIL\n",
    "from io import BytesIO\n",
    "import cv2\n",
    "\n",
    "# file and os management\n",
    "import os, re, time, shutil\n",
    "from imutils import paths\n",
    "\n",
    "# generic\n",
    "import matplotlib.pyplot as plt\n",
    "import numpy as np\n",
    "import pandas as pd \n",
    "\n",
    "# notebook display\n",
    "from IPython.display import display, clear_output"
   ]
  },
  {
   "cell_type": "code",
   "execution_count": 50,
   "metadata": {},
   "outputs": [],
   "source": [
    "# https://www.chop.edu/news/health-tip/recognizing-poison-ivy-oak-and-sumac"
   ]
  },
  {
   "cell_type": "markdown",
   "metadata": {},
   "source": [
    "## Metadata\n",
    "Create simple dataframes containing information for the 5 toxic species and the 5 nontoxic species.  \n",
    "Note that all of the species below are present in the [Herbarium 2022 competition dataset](https://www.kaggle.com/competitions/herbarium-2022-fgvc9/data) available on Kaggle. This data can be combined with the herbarium image data based on the `herbarium22_category_id`. "
   ]
  },
  {
   "cell_type": "code",
   "execution_count": 64,
   "metadata": {},
   "outputs": [
    {
     "data": {
      "text/html": [
       "<div>\n",
       "<style scoped>\n",
       "    .dataframe tbody tr th:only-of-type {\n",
       "        vertical-align: middle;\n",
       "    }\n",
       "\n",
       "    .dataframe tbody tr th {\n",
       "        vertical-align: top;\n",
       "    }\n",
       "\n",
       "    .dataframe thead th {\n",
       "        text-align: right;\n",
       "    }\n",
       "</style>\n",
       "<table border=\"1\" class=\"dataframe\">\n",
       "  <thead>\n",
       "    <tr style=\"text-align: right;\">\n",
       "      <th></th>\n",
       "      <th>class_id</th>\n",
       "      <th>slang</th>\n",
       "      <th>scientific_name</th>\n",
       "      <th>herbarium22_category_id</th>\n",
       "      <th>path</th>\n",
       "      <th>search_url</th>\n",
       "    </tr>\n",
       "  </thead>\n",
       "  <tbody>\n",
       "    <tr>\n",
       "      <th>0</th>\n",
       "      <td>0</td>\n",
       "      <td>Western Poison Oak</td>\n",
       "      <td>Toxicodendron diversilobum</td>\n",
       "      <td>14625</td>\n",
       "      <td>../input/toxic-plant-classification/tpc-imgs/t...</td>\n",
       "      <td>https://www.inaturalist.org/taxa/51080-Toxicod...</td>\n",
       "    </tr>\n",
       "    <tr>\n",
       "      <th>1</th>\n",
       "      <td>1</td>\n",
       "      <td>Eastern Poison Oak</td>\n",
       "      <td>Toxicodendron pubescens</td>\n",
       "      <td>14626</td>\n",
       "      <td>../input/toxic-plant-classification/tpc-imgs/t...</td>\n",
       "      <td>https://www.inaturalist.org/taxa/52083-Toxicod...</td>\n",
       "    </tr>\n",
       "    <tr>\n",
       "      <th>2</th>\n",
       "      <td>2</td>\n",
       "      <td>Eastern Poison Ivy</td>\n",
       "      <td>Toxicodendron radicans</td>\n",
       "      <td>14627</td>\n",
       "      <td>../input/toxic-plant-classification/tpc-imgs/t...</td>\n",
       "      <td>https://www.inaturalist.org/taxa/58732-Toxicod...</td>\n",
       "    </tr>\n",
       "    <tr>\n",
       "      <th>3</th>\n",
       "      <td>3</td>\n",
       "      <td>Western Poison Ivy</td>\n",
       "      <td>Toxicodendron rydbergii</td>\n",
       "      <td>14628</td>\n",
       "      <td>../input/toxic-plant-classification/tpc-imgs/t...</td>\n",
       "      <td>https://www.inaturalist.org/taxa/58729-Toxicod...</td>\n",
       "    </tr>\n",
       "    <tr>\n",
       "      <th>4</th>\n",
       "      <td>4</td>\n",
       "      <td>Poison Sumac</td>\n",
       "      <td>Toxicodendron vernix</td>\n",
       "      <td>14629</td>\n",
       "      <td>../input/toxic-plant-classification/tpc-imgs/t...</td>\n",
       "      <td>https://www.inaturalist.org/taxa/54767-Toxicod...</td>\n",
       "    </tr>\n",
       "  </tbody>\n",
       "</table>\n",
       "</div>"
      ],
      "text/plain": [
       "   class_id               slang             scientific_name  \\\n",
       "0         0  Western Poison Oak  Toxicodendron diversilobum   \n",
       "1         1  Eastern Poison Oak     Toxicodendron pubescens   \n",
       "2         2  Eastern Poison Ivy      Toxicodendron radicans   \n",
       "3         3  Western Poison Ivy     Toxicodendron rydbergii   \n",
       "4         4        Poison Sumac        Toxicodendron vernix   \n",
       "\n",
       "   herbarium22_category_id                                               path  \\\n",
       "0                    14625  ../input/toxic-plant-classification/tpc-imgs/t...   \n",
       "1                    14626  ../input/toxic-plant-classification/tpc-imgs/t...   \n",
       "2                    14627  ../input/toxic-plant-classification/tpc-imgs/t...   \n",
       "3                    14628  ../input/toxic-plant-classification/tpc-imgs/t...   \n",
       "4                    14629  ../input/toxic-plant-classification/tpc-imgs/t...   \n",
       "\n",
       "                                          search_url  \n",
       "0  https://www.inaturalist.org/taxa/51080-Toxicod...  \n",
       "1  https://www.inaturalist.org/taxa/52083-Toxicod...  \n",
       "2  https://www.inaturalist.org/taxa/58732-Toxicod...  \n",
       "3  https://www.inaturalist.org/taxa/58729-Toxicod...  \n",
       "4  https://www.inaturalist.org/taxa/54767-Toxicod...  "
      ]
     },
     "execution_count": 64,
     "metadata": {},
     "output_type": "execute_result"
    }
   ],
   "source": [
    "# Toxic plant images:\n",
    "toxic_meta = pd.DataFrame({\n",
    "    \"class_id\" : [0, 1, 2, 3, 4],\n",
    "    \"slang\" : [\"Western Poison Oak\", \"Eastern Poison Oak\", \"Eastern Poison Ivy\", \"Western Poison Ivy\", \"Poison Sumac\"],\n",
    "    \"scientific_name\" : [\"Toxicodendron diversilobum\", \"Toxicodendron pubescens\", \"Toxicodendron radicans\",\n",
    "                         \"Toxicodendron rydbergii\", \"Toxicodendron vernix\"],\n",
    "    \"herbarium22_category_id\" : [14625, 14626, 14627, 14628, 14629],\n",
    "    \"path\" : [\"../input/toxic-plant-classification/tpc-imgs/toxic_images/000/\", \"../input/toxic-plant-classification/tpc-imgs/toxic_images/001/\",\n",
    "             \"../input/toxic-plant-classification/tpc-imgs/toxic_images/002/\", \"../input/toxic-plant-classification/tpc-imgs/toxic_images/003/\",\n",
    "             \"../input/toxic-plant-classification/tpc-imgs/toxic_images/004/\"],\n",
    "    \"search_url\" : [\"https://www.inaturalist.org/taxa/51080-Toxicodendron-diversilobum/browse_photos\",\n",
    "                    \"https://www.inaturalist.org/taxa/52083-Toxicodendron-pubescens/browse_photos\",\n",
    "                    \"https://www.inaturalist.org/taxa/58732-Toxicodendron-radicans/browse_photos\",\n",
    "                    \"https://www.inaturalist.org/taxa/58729-Toxicodendron-rydbergii/browse_photos\",\n",
    "                    \"https://www.inaturalist.org/taxa/54767-Toxicodendron-vernix/browse_photos\"]\n",
    "})\n",
    "\n",
    "toxic_meta.to_csv(\"tpc_meta.csv\")\n",
    "\n",
    "\n",
    "class_to_slang = dict(zip(toxic_meta.class_id, toxic_meta.slang)) ##potentially useful dicts to index\n",
    "class_to_sciname = dict(zip(toxic_meta.class_id, toxic_meta.scientific_name))\n",
    "toxic_meta.to_csv(\"../iNaturalist/toxic_metadata.csv\", index=False)\n",
    "\n",
    "toxic_meta"
   ]
  },
  {
   "cell_type": "code",
   "execution_count": 65,
   "metadata": {},
   "outputs": [
    {
     "data": {
      "text/html": [
       "<div>\n",
       "<style scoped>\n",
       "    .dataframe tbody tr th:only-of-type {\n",
       "        vertical-align: middle;\n",
       "    }\n",
       "\n",
       "    .dataframe tbody tr th {\n",
       "        vertical-align: top;\n",
       "    }\n",
       "\n",
       "    .dataframe thead th {\n",
       "        text-align: right;\n",
       "    }\n",
       "</style>\n",
       "<table border=\"1\" class=\"dataframe\">\n",
       "  <thead>\n",
       "    <tr style=\"text-align: right;\">\n",
       "      <th></th>\n",
       "      <th>class_id</th>\n",
       "      <th>slang</th>\n",
       "      <th>scientific_name</th>\n",
       "      <th>herbarium22_category_id</th>\n",
       "      <th>path</th>\n",
       "      <th>search_url</th>\n",
       "    </tr>\n",
       "  </thead>\n",
       "  <tbody>\n",
       "    <tr>\n",
       "      <th>0</th>\n",
       "      <td>0</td>\n",
       "      <td>Virginia creeper</td>\n",
       "      <td>Parthenocissus quinquefolia</td>\n",
       "      <td>10340</td>\n",
       "      <td>../input/toxic-plant-classification/tpc-imgs/n...</td>\n",
       "      <td>https://www.inaturalist.org/taxa/50278-Parthen...</td>\n",
       "    </tr>\n",
       "    <tr>\n",
       "      <th>1</th>\n",
       "      <td>1</td>\n",
       "      <td>Boxelder</td>\n",
       "      <td>Acer negundo L.</td>\n",
       "      <td>83</td>\n",
       "      <td>../input/toxic-plant-classification/tpc-imgs/n...</td>\n",
       "      <td>https://www.inaturalist.org/taxa/47726-Acer-ne...</td>\n",
       "    </tr>\n",
       "    <tr>\n",
       "      <th>2</th>\n",
       "      <td>2</td>\n",
       "      <td>Jack-in-the-pulpit</td>\n",
       "      <td>Arisaema triphyllum</td>\n",
       "      <td>1055</td>\n",
       "      <td>../input/toxic-plant-classification/tpc-imgs/n...</td>\n",
       "      <td>https://www.inaturalist.org/taxa/50310-Arisaem...</td>\n",
       "    </tr>\n",
       "    <tr>\n",
       "      <th>3</th>\n",
       "      <td>3</td>\n",
       "      <td>Bear Oak</td>\n",
       "      <td>Quercus ilicifolia</td>\n",
       "      <td>12267</td>\n",
       "      <td>../input/toxic-plant-classification/tpc-imgs/n...</td>\n",
       "      <td>https://www.inaturalist.org/taxa/130737-Quercu...</td>\n",
       "    </tr>\n",
       "    <tr>\n",
       "      <th>4</th>\n",
       "      <td>4</td>\n",
       "      <td>Fragrant Sumac</td>\n",
       "      <td>Rhus aromatica</td>\n",
       "      <td>12479</td>\n",
       "      <td>../input/toxic-plant-classification/tpc-imgs/n...</td>\n",
       "      <td>https://www.inaturalist.org/taxa/58738-Rhus-ar...</td>\n",
       "    </tr>\n",
       "  </tbody>\n",
       "</table>\n",
       "</div>"
      ],
      "text/plain": [
       "   class_id               slang              scientific_name  \\\n",
       "0         0    Virginia creeper  Parthenocissus quinquefolia   \n",
       "1         1            Boxelder              Acer negundo L.   \n",
       "2         2  Jack-in-the-pulpit          Arisaema triphyllum   \n",
       "3         3            Bear Oak           Quercus ilicifolia   \n",
       "4         4      Fragrant Sumac               Rhus aromatica   \n",
       "\n",
       "   herbarium22_category_id                                               path  \\\n",
       "0                    10340  ../input/toxic-plant-classification/tpc-imgs/n...   \n",
       "1                       83  ../input/toxic-plant-classification/tpc-imgs/n...   \n",
       "2                     1055  ../input/toxic-plant-classification/tpc-imgs/n...   \n",
       "3                    12267  ../input/toxic-plant-classification/tpc-imgs/n...   \n",
       "4                    12479  ../input/toxic-plant-classification/tpc-imgs/n...   \n",
       "\n",
       "                                          search_url  \n",
       "0  https://www.inaturalist.org/taxa/50278-Parthen...  \n",
       "1  https://www.inaturalist.org/taxa/47726-Acer-ne...  \n",
       "2  https://www.inaturalist.org/taxa/50310-Arisaem...  \n",
       "3  https://www.inaturalist.org/taxa/130737-Quercu...  \n",
       "4  https://www.inaturalist.org/taxa/58738-Rhus-ar...  "
      ]
     },
     "execution_count": 65,
     "metadata": {},
     "output_type": "execute_result"
    }
   ],
   "source": [
    "# Nontoxic images:\n",
    "nontoxic_meta = pd.DataFrame({\n",
    "    \"class_id\" : [0, 1, 2, 3, 4],\n",
    "    \"slang\": [\"Virginia creeper\", \"Boxelder\", \"Jack-in-the-pulpit\", \"Bear Oak\", \"Fragrant Sumac\"],\n",
    "    \"scientific_name\": [\"Parthenocissus quinquefolia\", \"Acer negundo L.\", \"Arisaema triphyllum\", \"Quercus ilicifolia\", \"Rhus aromatica\"],\n",
    "    \"herbarium22_category_id\": [10340, 83, 1055, 12267, 12479],\n",
    "    \"path\" : [\"../input/toxic-plant-classification/tpc-imgs/nontoxic_images/000/\", \"../input/toxic-plant-classification/tpc-imgs/nontoxic_images/001/\",\n",
    "             \"../input/toxic-plant-classification/tpc-imgs/nontoxic_images/002/\", \"../input/toxic-plant-classification/tpc-imgs/nontoxic_images/003/\",\n",
    "             \"../input/toxic-plant-classification/tpc-imgs/nontoxic_images/004/\"],\n",
    "    \"search_url\": [\"https://www.inaturalist.org/taxa/50278-Parthenocissus-quinquefolia/browse_photos\",\n",
    "                   \"https://www.inaturalist.org/taxa/47726-Acer-negundo/browse_photos\",\n",
    "                   \"https://www.inaturalist.org/taxa/50310-Arisaema-triphyllum/browse_photos\",\n",
    "                   \"https://www.inaturalist.org/taxa/130737-Quercus-ilicifolia/browse_photos\",\n",
    "                   \"https://www.inaturalist.org/taxa/58738-Rhus-aromatica/browse_photos\"]\n",
    "})\n",
    "nontoxic_meta.to_csv(\"../iNaturalist/nontoxic_metadata.csv\", index=False)\n",
    "nontoxic_meta"
   ]
  },
  {
   "cell_type": "markdown",
   "metadata": {},
   "source": [
    "# Scraping iNaturalist \n",
    "Scrape the search page's html content for image URLs, and then get the images from their url"
   ]
  },
  {
   "cell_type": "code",
   "execution_count": 22,
   "metadata": {},
   "outputs": [],
   "source": [
    "def scrape_for_urls(search_url, max_urls=5):\n",
    "    \"\"\"\n",
    "    Use selenium to open the page, load all html content, find urls hidden in html elements, and save the urls.\n",
    "    By default, the search page is set so Grouping=None, Plant Phenology=Any, Order By=Faves, Photo Licensing=Any,\n",
    "    and Quality Grade=Research.\n",
    "    \"\"\"\n",
    "    driver = webdriver.Chrome(\"C:/Users/hanse/Documents/chromedriver_win32/chromedriver.exe\")\n",
    "    driver.get(search_url)\n",
    "    time.sleep(5) #sleep_between_interactions\n",
    "\n",
    "    # Stage 1: Continue scrolling until enough images are loaded \n",
    "    nonunique_urls = []\n",
    "    while len(set(nonunique_urls)) < max_urls:\n",
    "        # Scrape through site counting urls. Load more images if need more urls to reach max_urls\n",
    "        driver.execute_script(\"window.scrollTo(0, document.body.scrollHeight);\") ##scroll to end of page\n",
    "        elem = driver.find_element(By.XPATH, \"//*\") ##find all HTML elements\n",
    "        source_code = elem.get_attribute('outerHTML')  ##save html source code\n",
    "        time.sleep(3)\n",
    "        split_html = source_code.split(\"CoverImage low undefined loaded\") ##split by the class which contains image url in stlye\n",
    "        for i in range(len(split_html)):\n",
    "            result = re.search('&quot;(.*)&quot', split_html[i])\n",
    "            if result is not None:\n",
    "                nonunique_urls += [result.group(1)]\n",
    "            if len(set(nonunique_urls)) >= max_urls: ##continue until the number of UNIQUE urls in the list is max_urls...\n",
    "                break\n",
    "    \n",
    "    # Stage 2: Put the unique urls found in the html into a list. Stop at max_urls\n",
    "    urls = []\n",
    "    elem = driver.find_element(By.XPATH, \"//*\") ##find all HTML elements one final time\n",
    "    source_code = elem.get_attribute('outerHTML')  ##save final html source code with all loaded urls\n",
    "    time.sleep(3)\n",
    "    split_html = source_code.split(\"CoverImage low undefined loaded\") ##split string and isolate urls\n",
    "    for i in range(len(split_html)):\n",
    "        result = re.search('&quot;(.*)&quot', split_html[i])\n",
    "        if result is not None:\n",
    "            urls += [result.group(1)]\n",
    "        if len(urls) >= max_urls: ##continue saving until number of urls is = to max\n",
    "            break\n",
    "\n",
    "    driver.close()\n",
    "    return urls"
   ]
  },
  {
   "cell_type": "code",
   "execution_count": 23,
   "metadata": {},
   "outputs": [],
   "source": [
    "def get_images_and_save(class_id, urls, toxic, clean_dir=True):\n",
    "    \"Retrieves images from urls and saves them to a directory based on their class_id\"\n",
    "    if toxic:\n",
    "        dir=f'../iNaturalist/toxic_images/00{class_id}/'\n",
    "    else:\n",
    "        dir=f'../iNaturalist/nontoxic_images/00{class_id}/'\n",
    "\n",
    "    if clean_dir:\n",
    "        if os.path.isdir(dir): # see if dir exists - if so remove it to get a clean slate\n",
    "            shutil.rmtree(dir)\n",
    "        os.mkdir(dir) # make a new empty dir\n",
    "    else:\n",
    "        if not os.path.isdir(dir):\n",
    "            os.mkdir(dir)\n",
    "\n",
    "    total = 0\n",
    "    for idx, url in enumerate(urls):\n",
    "        # before saving image to disk, determine the image name & path\n",
    "        if total < 10:\n",
    "            str_total = \"00\"+str(total)\n",
    "        elif 9 < total < 100:\n",
    "            str_total = \"0\"+str(total)\n",
    "        elif total > 99:\n",
    "            str_total = str(total)\n",
    "        img_path = os.path.join(dir+str_total+\".jpg\")\n",
    "        try: #try the url, if successful open the image and save to the img_path\n",
    "            res = requests.get(urls[idx], timeout=60)\n",
    "            img = PIL.Image.open(BytesIO(res.content))\n",
    "            img.save(img_path)\n",
    "            # update the counter\n",
    "            total += 1\n",
    "            clear_output(wait=True) ##allow print statements to overwrite previous ones\n",
    "            display(f\"[INFO] downloaded: {img_path} | Total {total}\")\n",
    "        except Exception as e:\n",
    "            display(f\"[INFO] error downloading {img_path}...skipping\")\n",
    "            #display(e)"
   ]
  },
  {
   "cell_type": "code",
   "execution_count": 51,
   "metadata": {},
   "outputs": [
    {
     "name": "stderr",
     "output_type": "stream",
     "text": [
      "C:\\Users\\hanse\\AppData\\Local\\Temp\\ipykernel_23116\\2007106138.py:7: DeprecationWarning: executable_path has been deprecated, please pass in a Service object\n",
      "  driver = webdriver.Chrome(\"C:/Users/hanse/Documents/chromedriver_win32/chromedriver.exe\")\n"
     ]
    }
   ],
   "source": [
    "max_urls = 600   ##about 10 urls found per scroll\n",
    "toxic_urls_list = []\n",
    "nontoxic_urls_list = []\n",
    "\n",
    "# SCRAPE iNaturalist HTML SOURCE FOR IMAGE URLS \n",
    "for i in range(5):\n",
    "    \"GET TOXIC URLS\"\n",
    "    toxic_urls_list += [scrape_for_urls(toxic_meta.loc[i, 'search_url'], max_urls)]\n",
    "    \"GET NONTOXIC URLS\"\n",
    "    nontoxic_urls_list += [scrape_for_urls(nontoxic_meta.loc[i, 'search_url'], max_urls)]"
   ]
  },
  {
   "cell_type": "code",
   "execution_count": 54,
   "metadata": {},
   "outputs": [
    {
     "name": "stdout",
     "output_type": "stream",
     "text": [
      "Toxic Class 0. URLS = 600\n",
      "Nontoxic Class 0. URLS = 600\n",
      "Toxic Class 1. URLS = 600\n",
      "Nontoxic Class 1. URLS = 600\n",
      "Toxic Class 2. URLS = 600\n",
      "Nontoxic Class 2. URLS = 600\n",
      "Toxic Class 3. URLS = 600\n",
      "Nontoxic Class 3. URLS = 600\n",
      "Toxic Class 4. URLS = 600\n",
      "Nontoxic Class 4. URLS = 600\n"
     ]
    }
   ],
   "source": [
    "for i in range(5):\n",
    "    print(f\"Toxic Class {i}. URLS = {len(set(toxic_urls_list[i]))}\")\n",
    "    print(f\"Nontoxic Class {i}. URLS = {len(set(nontoxic_urls_list[i]))}\")"
   ]
  },
  {
   "cell_type": "code",
   "execution_count": 55,
   "metadata": {},
   "outputs": [
    {
     "data": {
      "text/plain": [
       "'[INFO] downloaded: ../iNaturalist/nontoxic_images/004/598.jpg | Total 599'"
      ]
     },
     "metadata": {},
     "output_type": "display_data"
    }
   ],
   "source": [
    "# DOWNLOAD & SAVE THE CORRESPONDING IMAGES TO LOCAL DISK\n",
    "for i in range(5):\n",
    "    \"GET TOXIC IMAGES\"\n",
    "    get_images_and_save(class_id=i, urls=toxic_urls_list[i], toxic=True)\n",
    "    \"GET NONTOXIC IMAGES\"\n",
    "    get_images_and_save(class_id=i, urls=nontoxic_urls_list[i], toxic=False)\n",
    "\n",
    "# 52m 30.2s for 6000 images"
   ]
  },
  {
   "cell_type": "markdown",
   "metadata": {},
   "source": [
    "# Clean Up"
   ]
  },
  {
   "cell_type": "code",
   "execution_count": 56,
   "metadata": {},
   "outputs": [],
   "source": [
    "def clean_image_paths(image_directory):\n",
    "    \"\"\"\n",
    "    Tries to load each image using OpenCV. If it returns None, the image is faulty and we delete it.\n",
    "    If loading the image does not work and produces an error, we delete it.  \n",
    "    \"\"\"\n",
    "    # loop over the image paths we just downloaded\n",
    "    for imagePath in paths.list_images(image_directory):\n",
    "        # initialize if the image should be deleted or not\n",
    "        delete = False\n",
    "        # try to load the image\n",
    "        try:\n",
    "            image = cv2.imread(imagePath)\n",
    "            # if the image is `None` then we could not properly load it\n",
    "            # from disk, so delete it\n",
    "            if image is None:\n",
    "                delete = True\n",
    "        # if OpenCV cannot load the image then the image is likely\n",
    "        # corrupt so we should delete it\n",
    "        except:\n",
    "            print(\"Except\")\n",
    "            delete = False\n",
    "        # check to see if the image should be deleted\n",
    "        if delete:\n",
    "            display(\"[INFO] deleting {}\".format(imagePath))\n",
    "            os.remove(imagePath)"
   ]
  },
  {
   "cell_type": "code",
   "execution_count": 57,
   "metadata": {},
   "outputs": [],
   "source": [
    "for cat in [\"000/\", \"001/\", \"002/\", \"003/\", \"004/\"]:\n",
    "    tox_dir = (\"../iNaturalist/toxic_images/\"+cat)\n",
    "    clean_image_paths(tox_dir)\n",
    "    nontox_dir = os.path.join(\"../iNaturalist/nontoxic_images/\",cat)\n",
    "    clean_image_paths(nontox_dir)"
   ]
  },
  {
   "cell_type": "markdown",
   "metadata": {},
   "source": [
    "At this point, I do a visual inspection of the images to determine if anything should be deleted manually.  \n",
    "\n",
    "Then reset image filenames so they are indexed from 000, 001, ... uninterruped."
   ]
  },
  {
   "cell_type": "code",
   "execution_count": 58,
   "metadata": {},
   "outputs": [],
   "source": [
    "p1 = '../iNaturalist/toxic_images/'\n",
    "p2 = '../iNaturalist/nontoxic_images/'\n",
    "for path in [p+c for p in [p1, p2] for c in [\"000/\", \"001/\", \"002/\", \"003/\", \"004/\"]]:\n",
    "    for i, filename in enumerate(os.listdir(path)):\n",
    "        if i < 10:\n",
    "             str_i = \"00\"+str(i)\n",
    "        elif 9 < i < 100:\n",
    "            str_i = \"0\"+str(i)\n",
    "        elif i > 99:\n",
    "            str_i = str(i)\n",
    "\n",
    "        os.rename(path + filename, path + str_i + \".jpg\")"
   ]
  },
  {
   "cell_type": "markdown",
   "metadata": {},
   "source": [
    "# Image Counts by Category"
   ]
  },
  {
   "cell_type": "code",
   "execution_count": 59,
   "metadata": {},
   "outputs": [
    {
     "name": "stdout",
     "output_type": "stream",
     "text": [
      "Toxic Images:\n",
      "Category 000/ - Images: 600\n",
      "Category 001/ - Images: 600\n",
      "Category 002/ - Images: 600\n",
      "Category 003/ - Images: 600\n",
      "Category 004/ - Images: 600\n",
      "total =  3000\n",
      "\n",
      "Nontoxic Images:\n",
      "Category 000/ - Images: 600\n",
      "Category 001/ - Images: 600\n",
      "Category 002/ - Images: 600\n",
      "Category 003/ - Images: 600\n",
      "Category 004/ - Images: 599\n",
      "total =  2999\n"
     ]
    }
   ],
   "source": [
    "# Final Image Counts: \n",
    "p1 = \"../iNaturalist/toxic_images/\"\n",
    "p2 = \"../iNaturalist/nontoxic_images/\"\n",
    "\n",
    "print(\"Toxic Images:\")\n",
    "total = 0\n",
    "for c in ['000/', '001/', '002/', '003/', '004/']:\n",
    "    pth = os.path.join(p1, c)\n",
    "    ims = len([name for name in os.listdir(pth)])\n",
    "    total += ims\n",
    "    print(f\"Category {c} - Images: {ims}\")\n",
    "print(\"total = \", total)\n",
    "\n",
    "\n",
    "print(\"\")\n",
    "print(\"Nontoxic Images:\")\n",
    "total = 0\n",
    "for c in ['000/', '001/', '002/', '003/', '004/']:\n",
    "    pth = os.path.join(p2, c)\n",
    "    ims = len([name for name in os.listdir(pth)])\n",
    "    total += ims\n",
    "    print(f\"Category {c} - Images: {ims}\")\n",
    "print(\"total = \", total)\n"
   ]
  }
 ],
 "metadata": {
  "kernelspec": {
   "display_name": "Python 3.10.4 ('.venv': venv)",
   "language": "python",
   "name": "python3"
  },
  "language_info": {
   "codemirror_mode": {
    "name": "ipython",
    "version": 3
   },
   "file_extension": ".py",
   "mimetype": "text/x-python",
   "name": "python",
   "nbconvert_exporter": "python",
   "pygments_lexer": "ipython3",
   "version": "3.10.4"
  },
  "orig_nbformat": 4,
  "vscode": {
   "interpreter": {
    "hash": "72b7c579c0b03ccea3cf2d5f942f58bede1912d833b1f5dbc9ab6eb5f84afb80"
   }
  }
 },
 "nbformat": 4,
 "nbformat_minor": 2
}
