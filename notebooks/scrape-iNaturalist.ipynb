{
 "cells": [
  {
   "cell_type": "code",
   "execution_count": 246,
   "metadata": {},
   "outputs": [],
   "source": [
    "# web scraping\n",
    "from selenium import webdriver\n",
    "from selenium.webdriver.common.by import By\n",
    "import requests\n",
    "\n",
    "# images\n",
    "import PIL\n",
    "from io import BytesIO\n",
    "\n",
    "# file and os management\n",
    "import os, re, time, shutil\n",
    "from imutils import paths\n",
    "\n",
    "# generic\n",
    "import matplotlib.pyplot as plt\n",
    "import numpy as np\n",
    "import pandas as pd \n",
    "\n",
    "# notebook display\n",
    "from IPython.display import display, clear_output"
   ]
  },
  {
   "cell_type": "code",
   "execution_count": 251,
   "metadata": {},
   "outputs": [
    {
     "data": {
      "text/html": [
       "<div>\n",
       "<style scoped>\n",
       "    .dataframe tbody tr th:only-of-type {\n",
       "        vertical-align: middle;\n",
       "    }\n",
       "\n",
       "    .dataframe tbody tr th {\n",
       "        vertical-align: top;\n",
       "    }\n",
       "\n",
       "    .dataframe thead th {\n",
       "        text-align: right;\n",
       "    }\n",
       "</style>\n",
       "<table border=\"1\" class=\"dataframe\">\n",
       "  <thead>\n",
       "    <tr style=\"text-align: right;\">\n",
       "      <th></th>\n",
       "      <th>class_id</th>\n",
       "      <th>slang</th>\n",
       "      <th>scientific_name</th>\n",
       "      <th>herbarium22_category_id</th>\n",
       "      <th>path</th>\n",
       "      <th>search_url</th>\n",
       "    </tr>\n",
       "  </thead>\n",
       "  <tbody>\n",
       "    <tr>\n",
       "      <th>0</th>\n",
       "      <td>0</td>\n",
       "      <td>Western Poison Oak</td>\n",
       "      <td>Toxicodendron diversilobum</td>\n",
       "      <td>14625</td>\n",
       "      <td>../input/toxic-plant-classification/tpc-imgs/000/</td>\n",
       "      <td>https://www.inaturalist.org/taxa/51080-Toxicod...</td>\n",
       "    </tr>\n",
       "    <tr>\n",
       "      <th>1</th>\n",
       "      <td>1</td>\n",
       "      <td>Eastern Poison Oak</td>\n",
       "      <td>Toxicodendron pubescens</td>\n",
       "      <td>14626</td>\n",
       "      <td>../input/toxic-plant-classification/tpc-imgs/001/</td>\n",
       "      <td>https://www.inaturalist.org/taxa/52083-Toxicod...</td>\n",
       "    </tr>\n",
       "    <tr>\n",
       "      <th>2</th>\n",
       "      <td>2</td>\n",
       "      <td>Eastern Poison Ivy</td>\n",
       "      <td>Toxicodendron radicans</td>\n",
       "      <td>14627</td>\n",
       "      <td>../input/toxic-plant-classification/tpc-imgs/002/</td>\n",
       "      <td>https://www.inaturalist.org/taxa/58732-Toxicod...</td>\n",
       "    </tr>\n",
       "    <tr>\n",
       "      <th>3</th>\n",
       "      <td>3</td>\n",
       "      <td>Western Poison Ivy</td>\n",
       "      <td>Toxicodendron rydbergii</td>\n",
       "      <td>14628</td>\n",
       "      <td>../input/toxic-plant-classification/tpc-imgs/003/</td>\n",
       "      <td>https://www.inaturalist.org/taxa/58729-Toxicod...</td>\n",
       "    </tr>\n",
       "    <tr>\n",
       "      <th>4</th>\n",
       "      <td>4</td>\n",
       "      <td>Poison Sumac</td>\n",
       "      <td>Toxicodendron vernix</td>\n",
       "      <td>14629</td>\n",
       "      <td>../input/toxic-plant-classification/tpc-imgs/004/</td>\n",
       "      <td>https://www.inaturalist.org/taxa/54767-Toxicod...</td>\n",
       "    </tr>\n",
       "    <tr>\n",
       "      <th>5</th>\n",
       "      <td>5</td>\n",
       "      <td>Nontoxic</td>\n",
       "      <td>NA</td>\n",
       "      <td>-1</td>\n",
       "      <td>../input/toxic-plant-classification/tpc-imgs/005/</td>\n",
       "      <td>NA</td>\n",
       "    </tr>\n",
       "  </tbody>\n",
       "</table>\n",
       "</div>"
      ],
      "text/plain": [
       "   class_id               slang             scientific_name  \\\n",
       "0         0  Western Poison Oak  Toxicodendron diversilobum   \n",
       "1         1  Eastern Poison Oak     Toxicodendron pubescens   \n",
       "2         2  Eastern Poison Ivy      Toxicodendron radicans   \n",
       "3         3  Western Poison Ivy     Toxicodendron rydbergii   \n",
       "4         4        Poison Sumac        Toxicodendron vernix   \n",
       "5         5            Nontoxic                          NA   \n",
       "\n",
       "   herbarium22_category_id                                               path  \\\n",
       "0                    14625  ../input/toxic-plant-classification/tpc-imgs/000/   \n",
       "1                    14626  ../input/toxic-plant-classification/tpc-imgs/001/   \n",
       "2                    14627  ../input/toxic-plant-classification/tpc-imgs/002/   \n",
       "3                    14628  ../input/toxic-plant-classification/tpc-imgs/003/   \n",
       "4                    14629  ../input/toxic-plant-classification/tpc-imgs/004/   \n",
       "5                       -1  ../input/toxic-plant-classification/tpc-imgs/005/   \n",
       "\n",
       "                                          search_url  \n",
       "0  https://www.inaturalist.org/taxa/51080-Toxicod...  \n",
       "1  https://www.inaturalist.org/taxa/52083-Toxicod...  \n",
       "2  https://www.inaturalist.org/taxa/58732-Toxicod...  \n",
       "3  https://www.inaturalist.org/taxa/58729-Toxicod...  \n",
       "4  https://www.inaturalist.org/taxa/54767-Toxicod...  \n",
       "5                                                 NA  "
      ]
     },
     "execution_count": 251,
     "metadata": {},
     "output_type": "execute_result"
    }
   ],
   "source": [
    "\n",
    "toxic_meta = pd.DataFrame({\n",
    "    \"class_id\" : [0, 1, 2, 3, 4, 5],\n",
    "    \"slang\" : [\"Western Poison Oak\", \"Eastern Poison Oak\", \"Eastern Poison Ivy\", \"Western Poison Ivy\", \"Poison Sumac\", \"Nontoxic\"],\n",
    "    \"scientific_name\" : [\"Toxicodendron diversilobum\", \"Toxicodendron pubescens\", \"Toxicodendron radicans\",\n",
    "                         \"Toxicodendron rydbergii\", \"Toxicodendron vernix\", \"NA\"],\n",
    "    \"herbarium22_category_id\" : [int(c) for c in [14625, 14626, 14627, 14628, 14629, -1]],\n",
    "    \"path\" : [\"../input/toxic-plant-classification/tpc-imgs/000/\", \"../input/toxic-plant-classification/tpc-imgs/001/\",\n",
    "             \"../input/toxic-plant-classification/tpc-imgs/002/\", \"../input/toxic-plant-classification/tpc-imgs/003/\",\n",
    "             \"../input/toxic-plant-classification/tpc-imgs/004/\", \"../input/toxic-plant-classification/tpc-imgs/005/\"],\n",
    "    \"search_url\" : [\"https://www.inaturalist.org/taxa/51080-Toxicodendron-diversilobum/browse_photos\",\n",
    "                    \"https://www.inaturalist.org/taxa/52083-Toxicodendron-pubescens/browse_photos\",\n",
    "                    \"https://www.inaturalist.org/taxa/58732-Toxicodendron-radicans/browse_photos\",\n",
    "                    \"https://www.inaturalist.org/taxa/58729-Toxicodendron-rydbergii/browse_photos\",\n",
    "                    \"https://www.inaturalist.org/taxa/54767-Toxicodendron-vernix/browse_photos\",\n",
    "                    \"NA\"]\n",
    "})\n",
    "\n",
    "toxic_meta.to_csv(\"tpc_meta.csv\")\n",
    "\n",
    "\n",
    "class_to_slang = dict(zip(toxic_meta.class_id, toxic_meta.slang))\n",
    "class_to_sciname = dict(zip(toxic_meta.class_id, toxic_meta.scientific_name))\n",
    "toxic_meta"
   ]
  },
  {
   "cell_type": "code",
   "execution_count": 263,
   "metadata": {},
   "outputs": [],
   "source": [
    "# Nontoxic images:\n",
    "nontoxic_meta = pd.DataFrame({\n",
    "    \"class_id\" : [0, 1, 2, 3, 4],\n",
    "    \"slang\": [\"Virginia creeper\", \"Boxelder\", \"Jack-in-the-pulpit\", \"American hog-peanut\", \"Fragrant Sumac\"],\n",
    "    \"scientific_name\": [\"Parthenocissus quinquefolia\", \"Acer negundo L.\", \"Arisaema triphyllum\", \"Amphicarpaea bracteata\", \"Rhus aromatica\"],\n",
    "    \"herbarium22_category_id\": [10340, 83, 1055, 610, 12479],\n",
    "    \"search_url\": [\"https://www.inaturalist.org/taxa/50278-Parthenocissus-quinquefolia/browse_photos\",\n",
    "                   \"https://www.inaturalist.org/taxa/47726-Acer-negundo/browse_photos\",\n",
    "                   \"https://www.inaturalist.org/taxa/50310-Arisaema-triphyllum/browse_photos\",\n",
    "                  # \"https://www.inaturalist.org/taxa/447285-Amphicarpaea-bracteata-edgeworthii/browse_photos\", ##FIX! NOT ENOUGH PHOTOS (might be a subspecies...)\n",
    "                   \"https://www.inaturalist.org/taxa/58738-Rhus-aromatica/browse_photos\"]\n",
    "})"
   ]
  },
  {
   "cell_type": "markdown",
   "metadata": {},
   "source": [
    "# Scraping iNaturalist \n",
    "## Scrape the search page's html content for image URLs, and then get the images from their url"
   ]
  },
  {
   "cell_type": "code",
   "execution_count": 275,
   "metadata": {},
   "outputs": [],
   "source": [
    "def scrape_for_urls(search_url, max_urls=5):\n",
    "    \"\"\"\n",
    "    Use selenium to open the page, load all html content, find urls hidden in html elements, and save the urls.\n",
    "    By default, the search page is set so Grouping=None, Plant Phenology=Any, Order By=Faves, Photo Licensing=Any,\n",
    "    and Quality Grade=Research.\n",
    "    \"\"\"\n",
    "    driver = webdriver.Chrome(\"C:/Users/hanse/Documents/chromedriver_win32/chromedriver.exe\")\n",
    "    driver.get(search_url)\n",
    "    time.sleep(5) #sleep_between_interactions\n",
    "\n",
    "    # Stage 1: Load enough images to satisfy the desired number of urls (max_urls) \n",
    "    nonunique_urls = []\n",
    "    while len(set(nonunique_urls)) < max_urls:\n",
    "        # Scrape through site counting urls. Load more images if need more urls to reach max_urls\n",
    "        driver.execute_script(\"window.scrollTo(0, document.body.scrollHeight);\") ##scroll to end of page\n",
    "        elem = driver.find_element(By.XPATH, \"//*\") ##find all HTML elements\n",
    "        source_code = elem.get_attribute('outerHTML')  ##save html source code\n",
    "        time.sleep(3)\n",
    "        split_html = source_code.split(\"CoverImage low undefined loaded\") ##split by the class which contains image url in stlye\n",
    "        for i in range(len(split_html)):\n",
    "            result = re.search('&quot;(.*)&quot', split_html[i])\n",
    "            if result is not None:\n",
    "                nonunique_urls += [result.group(1)]\n",
    "            if len(set(nonunique_urls)) >= max_urls: ##continue until the number of UNIQUE urls in the list is max_urls...\n",
    "                break\n",
    "    \n",
    "    # Stage 2: Save the unique urls in a list\n",
    "    urls = []\n",
    "    elem = driver.find_element(By.XPATH, \"//*\") ##find all HTML elements one final time\n",
    "    source_code = elem.get_attribute('outerHTML')  ##save final html source code with all loaded urls\n",
    "    time.sleep(3)\n",
    "    split_html = source_code.split(\"CoverImage low undefined loaded\") ##split string and isolate urls\n",
    "    for i in range(len(split_html)):\n",
    "        result = re.search('&quot;(.*)&quot', split_html[i])\n",
    "        if result is not None:\n",
    "            urls += [result.group(1)]\n",
    "        if len(urls) >= max_urls: ##continue saving until number of urls is = to max\n",
    "            break\n",
    "\n",
    "    driver.close()\n",
    "    return urls"
   ]
  },
  {
   "cell_type": "code",
   "execution_count": 291,
   "metadata": {},
   "outputs": [],
   "source": [
    "def get_images_and_save(class_id, urls, toxic):\n",
    "    \"Retrieves images from urls and saves them in a structured format\"\n",
    "    if toxic:\n",
    "        dir=f'../iNaturalist/toxic_images/00{class_id}/'\n",
    "    else:\n",
    "        dir=f'../iNaturalist/nontoxic_images/00{class_id}/'\n",
    "\n",
    "    if os.path.isdir(dir): # see if dir exists - if so remove it to get a clean slate\n",
    "        shutil.rmtree(dir)\n",
    "    os.mkdir(dir) # make a new empty dir\n",
    "\n",
    "    total = 0\n",
    "    for idx, url in enumerate(urls):\n",
    "        # before saving image to disk, give an indexed name\n",
    "        if total < 10:\n",
    "            str_total = \"00\"+str(total)\n",
    "        elif 9 < total < 100:\n",
    "            str_total = \"0\"+str(total)\n",
    "        elif total > 99:\n",
    "            str_total = str(total)\n",
    "        img_path = os.path.join(dir+str_total+\".jpg\")\n",
    "        try:\n",
    "            res = requests.get(urls[idx], timeout=60)\n",
    "            img = PIL.Image.open(BytesIO(res.content))\n",
    "            img.save(img_path)\n",
    "            # update the counter\n",
    "            total += 1\n",
    "            clear_output(wait=True) ##allow print statements to overwrite previous ones\n",
    "            display(f\"[INFO] downloaded: {img_path} | Total {total}\")\n",
    "        except Exception as e:\n",
    "            display(f\"[INFO] error downloading {img_path}...skipping\")\n",
    "            display(e)\n"
   ]
  },
  {
   "cell_type": "code",
   "execution_count": 277,
   "metadata": {},
   "outputs": [
    {
     "data": {
      "text/plain": [
       "'[INFO] downloaded: ../iNaturalist/toxic_images/000/086.jpg | Total 87'"
      ]
     },
     "metadata": {},
     "output_type": "display_data"
    },
    {
     "ename": "UnboundLocalError",
     "evalue": "local variable 'p' referenced before assignment",
     "output_type": "error",
     "traceback": [
      "\u001b[1;31m---------------------------------------------------------------------------\u001b[0m",
      "\u001b[1;31mInvalidSchema\u001b[0m                             Traceback (most recent call last)",
      "\u001b[1;32mc:\\Users\\hanse\\Documents\\toxic-plant-classification\\notebooks\\scrape-iNaturalist.ipynb Cell 7\u001b[0m in \u001b[0;36mget_images_and_save\u001b[1;34m(class_id, urls, toxic)\u001b[0m\n\u001b[0;32m     <a href='vscode-notebook-cell:/c%3A/Users/hanse/Documents/toxic-plant-classification/notebooks/scrape-iNaturalist.ipynb#X21sZmlsZQ%3D%3D?line=13'>14</a>\u001b[0m \u001b[39mtry\u001b[39;00m:\n\u001b[1;32m---> <a href='vscode-notebook-cell:/c%3A/Users/hanse/Documents/toxic-plant-classification/notebooks/scrape-iNaturalist.ipynb#X21sZmlsZQ%3D%3D?line=14'>15</a>\u001b[0m     res \u001b[39m=\u001b[39m requests\u001b[39m.\u001b[39;49mget(urls[idx], timeout\u001b[39m=\u001b[39;49m\u001b[39m60\u001b[39;49m)\n\u001b[0;32m     <a href='vscode-notebook-cell:/c%3A/Users/hanse/Documents/toxic-plant-classification/notebooks/scrape-iNaturalist.ipynb#X21sZmlsZQ%3D%3D?line=15'>16</a>\u001b[0m     img \u001b[39m=\u001b[39m PIL\u001b[39m.\u001b[39mImage\u001b[39m.\u001b[39mopen(BytesIO(res\u001b[39m.\u001b[39mcontent))\n",
      "File \u001b[1;32mc:\\Users\\hanse\\Documents\\toxic-plant-classification\\.venv\\lib\\site-packages\\requests\\api.py:73\u001b[0m, in \u001b[0;36mget\u001b[1;34m(url, params, **kwargs)\u001b[0m\n\u001b[0;32m     63\u001b[0m \u001b[39mr\u001b[39m\u001b[39m\"\"\"Sends a GET request.\u001b[39;00m\n\u001b[0;32m     64\u001b[0m \n\u001b[0;32m     65\u001b[0m \u001b[39m:param url: URL for the new :class:`Request` object.\u001b[39;00m\n\u001b[1;32m   (...)\u001b[0m\n\u001b[0;32m     70\u001b[0m \u001b[39m:rtype: requests.Response\u001b[39;00m\n\u001b[0;32m     71\u001b[0m \u001b[39m\"\"\"\u001b[39;00m\n\u001b[1;32m---> 73\u001b[0m \u001b[39mreturn\u001b[39;00m request(\u001b[39m\"\u001b[39m\u001b[39mget\u001b[39m\u001b[39m\"\u001b[39m, url, params\u001b[39m=\u001b[39mparams, \u001b[39m*\u001b[39m\u001b[39m*\u001b[39mkwargs)\n",
      "File \u001b[1;32mc:\\Users\\hanse\\Documents\\toxic-plant-classification\\.venv\\lib\\site-packages\\requests\\api.py:59\u001b[0m, in \u001b[0;36mrequest\u001b[1;34m(method, url, **kwargs)\u001b[0m\n\u001b[0;32m     58\u001b[0m \u001b[39mwith\u001b[39;00m sessions\u001b[39m.\u001b[39mSession() \u001b[39mas\u001b[39;00m session:\n\u001b[1;32m---> 59\u001b[0m     \u001b[39mreturn\u001b[39;00m session\u001b[39m.\u001b[39mrequest(method\u001b[39m=\u001b[39mmethod, url\u001b[39m=\u001b[39murl, \u001b[39m*\u001b[39m\u001b[39m*\u001b[39mkwargs)\n",
      "File \u001b[1;32mc:\\Users\\hanse\\Documents\\toxic-plant-classification\\.venv\\lib\\site-packages\\requests\\sessions.py:587\u001b[0m, in \u001b[0;36mSession.request\u001b[1;34m(self, method, url, params, data, headers, cookies, files, auth, timeout, allow_redirects, proxies, hooks, stream, verify, cert, json)\u001b[0m\n\u001b[0;32m    586\u001b[0m send_kwargs\u001b[39m.\u001b[39mupdate(settings)\n\u001b[1;32m--> 587\u001b[0m resp \u001b[39m=\u001b[39m \u001b[39mself\u001b[39m\u001b[39m.\u001b[39msend(prep, \u001b[39m*\u001b[39m\u001b[39m*\u001b[39msend_kwargs)\n\u001b[0;32m    589\u001b[0m \u001b[39mreturn\u001b[39;00m resp\n",
      "File \u001b[1;32mc:\\Users\\hanse\\Documents\\toxic-plant-classification\\.venv\\lib\\site-packages\\requests\\sessions.py:695\u001b[0m, in \u001b[0;36mSession.send\u001b[1;34m(self, request, **kwargs)\u001b[0m\n\u001b[0;32m    694\u001b[0m \u001b[39m# Get the appropriate adapter to use\u001b[39;00m\n\u001b[1;32m--> 695\u001b[0m adapter \u001b[39m=\u001b[39m \u001b[39mself\u001b[39;49m\u001b[39m.\u001b[39;49mget_adapter(url\u001b[39m=\u001b[39;49mrequest\u001b[39m.\u001b[39;49murl)\n\u001b[0;32m    697\u001b[0m \u001b[39m# Start time (approximately) of the request\u001b[39;00m\n",
      "File \u001b[1;32mc:\\Users\\hanse\\Documents\\toxic-plant-classification\\.venv\\lib\\site-packages\\requests\\sessions.py:792\u001b[0m, in \u001b[0;36mSession.get_adapter\u001b[1;34m(self, url)\u001b[0m\n\u001b[0;32m    791\u001b[0m \u001b[39m# Nothing matches :-/\u001b[39;00m\n\u001b[1;32m--> 792\u001b[0m \u001b[39mraise\u001b[39;00m InvalidSchema(\u001b[39mf\u001b[39m\u001b[39m\"\u001b[39m\u001b[39mNo connection adapters were found for \u001b[39m\u001b[39m{\u001b[39;00murl\u001b[39m!r}\u001b[39;00m\u001b[39m\"\u001b[39m)\n",
      "\u001b[1;31mInvalidSchema\u001b[0m: No connection adapters were found for \"['https://inaturalist-open-data.s3.amazonaws.com/photos/223281963/medium.jpg', 'https://inaturalist-open-data.s3.amazonaws.com/photos/21578937/medium.jpeg', 'https://inaturalist-open-data.s3.amazonaws.com/photos/21578956/medium.jpeg', 'https://inaturalist-open-data.s3.amazonaws.com/photos/21578965/medium.jpeg', 'https://inaturalist-open-data.s3.amazonaws.com/photos/33688829/medium.jpg', 'https://inaturalist-open-data.s3.amazonaws.com/photos/33688845/medium.jpg', 'https://inaturalist-open-data.s3.amazonaws.com/photos/33688856/medium.jpg', 'https://inaturalist-open-data.s3.amazonaws.com/photos/33688836/medium.jpg', 'https://static.inaturalist.org/photos/40238421/medium.jpg', 'https://inaturalist-open-data.s3.amazonaws.com/photos/51554707/medium.jpeg', 'https://static.inaturalist.org/photos/152940074/medium.jpg', 'https://static.inaturalist.org/photos/152940092/medium.jpg', 'https://static.inaturalist.org/photos/152940110/medium.jpg', 'https://static.inaturalist.org/photos/152940130/medium.jpg', 'https://static.inaturalist.org/photos/152940157/medium.jpg', 'https://static.inaturalist.org/photos/40251359/medium.jpg', 'https://inaturalist-open-data.s3.amazonaws.com/photos/1688748/medium.JPG', 'https://inaturalist-open-data.s3.amazonaws.com/photos/4351701/medium.jpeg', 'https://inaturalist-open-data.s3.amazonaws.com/photos/148942042/medium.jpeg', 'https://inaturalist-open-data.s3.amazonaws.com/photos/121863201/medium.jpeg', 'https://static.inaturalist.org/photos/171725419/medium.jpeg', 'https://inaturalist-open-data.s3.amazonaws.com/photos/4379449/medium.jpg', 'https://inaturalist-open-data.s3.amazonaws.com/photos/120090666/medium.jpeg', 'https://inaturalist-open-data.s3.amazonaws.com/photos/144466781/medium.jpg', 'https://inaturalist-open-data.s3.amazonaws.com/photos/154212751/medium.jpeg', 'https://inaturalist-open-data.s3.amazonaws.com/photos/63491437/medium.jpeg', 'https://inaturalist-open-data.s3.amazonaws.com/photos/24642893/medium.jpeg', 'https://static.inaturalist.org/photos/42705128/medium.jpg', 'https://inaturalist-open-data.s3.amazonaws.com/photos/29808264/medium.jpeg', 'https://inaturalist-open-data.s3.amazonaws.com/photos/29808299/medium.jpeg', 'https://inaturalist-open-data.s3.amazonaws.com/photos/82212683/medium.jpg', 'https://inaturalist-open-data.s3.amazonaws.com/photos/24074746/medium.jpeg', 'https://static.inaturalist.org/photos/18637953/medium.jpg', 'https://inaturalist-open-data.s3.amazonaws.com/photos/160649626/medium.jpeg', 'https://static.inaturalist.org/photos/95539176/medium.jpeg', 'https://inaturalist-open-data.s3.amazonaws.com/photos/148536421/medium.jpg', 'https://inaturalist-open-data.s3.amazonaws.com/photos/124335863/medium.jpg', 'https://inaturalist-open-data.s3.amazonaws.com/photos/124335900/medium.jpg', 'https://inaturalist-open-data.s3.amazonaws.com/photos/37964016/medium.jpg', 'https://static.inaturalist.org/photos/132790317/medium.jpeg', 'https://inaturalist-open-data.s3.amazonaws.com/photos/56400758/medium.jpeg', 'https://inaturalist-open-data.s3.amazonaws.com/photos/40982131/medium.jpg', 'https://static.inaturalist.org/photos/42693697/medium.jpeg', 'https://inaturalist-open-data.s3.amazonaws.com/photos/77443763/medium.jpg', 'https://inaturalist-open-data.s3.amazonaws.com/photos/77443809/medium.jpg', 'https://inaturalist-open-data.s3.amazonaws.com/photos/96673489/medium.jpg', 'https://inaturalist-open-data.s3.amazonaws.com/photos/96673515/medium.jpg', 'https://static.inaturalist.org/photos/35624251/medium.jpg', 'https://inaturalist-open-data.s3.amazonaws.com/photos/52627212/medium.jpeg', 'https://inaturalist-open-data.s3.amazonaws.com/photos/172528470/medium.jpeg', 'https://inaturalist-open-data.s3.amazonaws.com/photos/203318553/medium.jpeg', 'https://inaturalist-open-data.s3.amazonaws.com/photos/55179145/medium.jpg', 'https://inaturalist-open-data.s3.amazonaws.com/photos/226208349/medium.jpeg', 'https://static.inaturalist.org/photos/25776605/medium.jpg', 'https://inaturalist-open-data.s3.amazonaws.com/photos/57465118/medium.jpeg', 'https://inaturalist-open-data.s3.amazonaws.com/photos/2668636/medium.jpg', 'https://static.inaturalist.org/photos/66178143/medium.jpeg', 'https://static.inaturalist.org/photos/108254146/medium.jpg', 'https://inaturalist-open-data.s3.amazonaws.com/photos/5696855/medium.jpeg', 'https://inaturalist-open-data.s3.amazonaws.com/photos/5696857/medium.jpeg', 'https://static.inaturalist.org/photos/133680820/medium.jpg', 'https://inaturalist-open-data.s3.amazonaws.com/photos/4354557/medium.jpeg', 'https://inaturalist-open-data.s3.amazonaws.com/photos/4354520/medium.jpeg', 'https://inaturalist-open-data.s3.amazonaws.com/photos/4354534/medium.jpeg', 'https://inaturalist-open-data.s3.amazonaws.com/photos/4354187/medium.jpeg', 'https://inaturalist-open-data.s3.amazonaws.com/photos/89281542/medium.jpeg', 'https://inaturalist-open-data.s3.amazonaws.com/photos/190402195/medium.jpg', 'https://inaturalist-open-data.s3.amazonaws.com/photos/190402252/medium.jpg', 'https://inaturalist-open-data.s3.amazonaws.com/photos/190402290/medium.jpg', 'https://inaturalist-open-data.s3.amazonaws.com/photos/190402347/medium.jpg', 'https://inaturalist-open-data.s3.amazonaws.com/photos/190402394/medium.jpg', 'https://inaturalist-open-data.s3.amazonaws.com/photos/190402469/medium.jpg', 'https://inaturalist-open-data.s3.amazonaws.com/photos/190402526/medium.jpg', 'https://inaturalist-open-data.s3.amazonaws.com/photos/135252850/medium.jpeg', 'https://static.inaturalist.org/photos/134304066/medium.jpeg', 'https://static.inaturalist.org/photos/18508463/medium.jpg', 'https://static.inaturalist.org/photos/20302938/medium.jpg', 'https://static.inaturalist.org/photos/20302925/medium.jpg', 'https://static.inaturalist.org/photos/25780477/medium.jpg', 'https://static.inaturalist.org/photos/25780452/medium.jpg', 'https://inaturalist-open-data.s3.amazonaws.com/photos/152356322/medium.jpg', 'https://inaturalist-open-data.s3.amazonaws.com/photos/152356332/medium.jpg', 'https://inaturalist-open-data.s3.amazonaws.com/photos/152356345/medium.jpg', 'https://inaturalist-open-data.s3.amazonaws.com/photos/31482413/medium.jpeg', 'https://inaturalist-open-data.s3.amazonaws.com/photos/154413945/medium.jpeg', 'https://inaturalist-open-data.s3.amazonaws.com/photos/154413975/medium.jpeg', 'https://inaturalist-open-data.s3.amazonaws.com/photos/154414008/medium.jpeg', 'https://inaturalist-open-data.s3.amazonaws.com/photos/154414041/medium.jpeg', 'https://inaturalist-open-data.s3.amazonaws.com/photos/154414063/medium.jpeg', 'https://inaturalist-open-data.s3.amazonaws.com/photos/154414088/medium.jpeg', 'https://inaturalist-open-data.s3.amazonaws.com/photos/154414110/medium.jpeg', 'https://inaturalist-open-data.s3.amazonaws.com/photos/154414133/medium.jpeg', 'https://inaturalist-open-data.s3.amazonaws.com/photos/18788949/medium.jpeg', 'https://inaturalist-open-data.s3.amazonaws.com/photos/125594974/medium.jpeg', 'https://inaturalist-open-data.s3.amazonaws.com/photos/2483225/medium.JPG', 'https://inaturalist-open-data.s3.amazonaws.com/photos/2483226/medium.JPG']\"",
      "\nDuring handling of the above exception, another exception occurred:\n",
      "\u001b[1;31mUnboundLocalError\u001b[0m                         Traceback (most recent call last)",
      "\u001b[1;32mc:\\Users\\hanse\\Documents\\toxic-plant-classification\\notebooks\\scrape-iNaturalist.ipynb Cell 7\u001b[0m in \u001b[0;36m<cell line: 13>\u001b[1;34m()\u001b[0m\n\u001b[0;32m     <a href='vscode-notebook-cell:/c%3A/Users/hanse/Documents/toxic-plant-classification/notebooks/scrape-iNaturalist.ipynb#X21sZmlsZQ%3D%3D?line=14'>15</a>\u001b[0m get_images_and_save(class_id\u001b[39m=\u001b[39mi, urls\u001b[39m=\u001b[39mtoxic_urls_list[i], toxic\u001b[39m=\u001b[39m\u001b[39mTrue\u001b[39;00m)\n\u001b[0;32m     <a href='vscode-notebook-cell:/c%3A/Users/hanse/Documents/toxic-plant-classification/notebooks/scrape-iNaturalist.ipynb#X21sZmlsZQ%3D%3D?line=15'>16</a>\u001b[0m \u001b[39m\"\u001b[39m\u001b[39mGET NONTOXIC IMAGES\u001b[39m\u001b[39m\"\u001b[39m\n\u001b[1;32m---> <a href='vscode-notebook-cell:/c%3A/Users/hanse/Documents/toxic-plant-classification/notebooks/scrape-iNaturalist.ipynb#X21sZmlsZQ%3D%3D?line=16'>17</a>\u001b[0m get_images_and_save(class_id\u001b[39m=\u001b[39;49mi, urls\u001b[39m=\u001b[39;49mnontoxic_urls_list, toxic\u001b[39m=\u001b[39;49m\u001b[39mFalse\u001b[39;49;00m)\n",
      "\u001b[1;32mc:\\Users\\hanse\\Documents\\toxic-plant-classification\\notebooks\\scrape-iNaturalist.ipynb Cell 7\u001b[0m in \u001b[0;36mget_images_and_save\u001b[1;34m(class_id, urls, toxic)\u001b[0m\n\u001b[0;32m     <a href='vscode-notebook-cell:/c%3A/Users/hanse/Documents/toxic-plant-classification/notebooks/scrape-iNaturalist.ipynb#X21sZmlsZQ%3D%3D?line=28'>29</a>\u001b[0m     display(\u001b[39mf\u001b[39m\u001b[39m\"\u001b[39m\u001b[39m[INFO] downloaded: \u001b[39m\u001b[39m{\u001b[39;00mp\u001b[39m}\u001b[39;00m\u001b[39m | Total \u001b[39m\u001b[39m{\u001b[39;00mtotal\u001b[39m}\u001b[39;00m\u001b[39m\"\u001b[39m)\n\u001b[0;32m     <a href='vscode-notebook-cell:/c%3A/Users/hanse/Documents/toxic-plant-classification/notebooks/scrape-iNaturalist.ipynb#X21sZmlsZQ%3D%3D?line=29'>30</a>\u001b[0m \u001b[39mexcept\u001b[39;00m \u001b[39mException\u001b[39;00m \u001b[39mas\u001b[39;00m e:\n\u001b[1;32m---> <a href='vscode-notebook-cell:/c%3A/Users/hanse/Documents/toxic-plant-classification/notebooks/scrape-iNaturalist.ipynb#X21sZmlsZQ%3D%3D?line=30'>31</a>\u001b[0m     display(\u001b[39mf\u001b[39m\u001b[39m\"\u001b[39m\u001b[39m[INFO] error downloading \u001b[39m\u001b[39m{\u001b[39;00mp\u001b[39m}\u001b[39;00m\u001b[39m...skipping\u001b[39m\u001b[39m\"\u001b[39m)\n\u001b[0;32m     <a href='vscode-notebook-cell:/c%3A/Users/hanse/Documents/toxic-plant-classification/notebooks/scrape-iNaturalist.ipynb#X21sZmlsZQ%3D%3D?line=31'>32</a>\u001b[0m     display(e)\n",
      "\u001b[1;31mUnboundLocalError\u001b[0m: local variable 'p' referenced before assignment"
     ]
    }
   ],
   "source": [
    "max_urls = 50  ##about 10 urls found per scroll\n",
    "toxic_urls_list = []\n",
    "nontoxic_urls_list = []\n",
    "\n",
    "# SCRAPE iNaturalist HTML SOURCE FOR IMAGE URLS \n",
    "for i in range(5):\n",
    "    \"GET TOXIC URLS\"\n",
    "    toxic_urls_list += [scrape_for_urls(toxic_meta.loc[i, 'search_url'], max_urls)]\n",
    "    \"GET NONTOXIC URLS\"\n",
    "    nontoxic_urls_list += [scrape_for_urls(nontoxic_meta.loc[i, 'search_url'], max_urls)]\n",
    "\n"
   ]
  },
  {
   "cell_type": "code",
   "execution_count": 299,
   "metadata": {},
   "outputs": [
    {
     "data": {
      "text/plain": [
       "'[INFO] downloaded: ../iNaturalist/nontoxic_images/004/066.jpg | Total 67'"
      ]
     },
     "metadata": {},
     "output_type": "display_data"
    }
   ],
   "source": [
    "# DOWNLOAD THE CORRESPONDING IMAGES TO LOCAL DISK\n",
    "for i in range(5):\n",
    "    \"GET TOXIC IMAGES\"\n",
    "    get_images_and_save(class_id=i, urls=toxic_urls_list[i], toxic=True)\n",
    "    \"GET NONTOXIC IMAGES\"\n",
    "    get_images_and_save(class_id=i, urls=nontoxic_urls_list[i], toxic=False)"
   ]
  },
  {
   "cell_type": "markdown",
   "metadata": {},
   "source": [
    "# Clean Up"
   ]
  },
  {
   "cell_type": "code",
   "execution_count": 300,
   "metadata": {},
   "outputs": [],
   "source": [
    "def clean_image_paths(image_directory):\n",
    "    \"\"\"\n",
    "    Tries to load each image using OpenCV. If it returns None, the image is faulty and we delete it.\n",
    "    If loading the image does not work and produces an error, we delete it.  \n",
    "    \"\"\"\n",
    "    # loop over the image paths we just downloaded\n",
    "    for imagePath in paths.list_images(image_directory):\n",
    "        # initialize if the image should be deleted or not\n",
    "        delete = False\n",
    "        # try to load the image\n",
    "        try:\n",
    "            image = cv2.imread(imagePath)\n",
    "            # if the image is `None` then we could not properly load it\n",
    "            # from disk, so delete it\n",
    "            if image is None:\n",
    "                delete = True\n",
    "        # if OpenCV cannot load the image then the image is likely\n",
    "        # corrupt so we should delete it\n",
    "        except:\n",
    "            print(\"Except\")\n",
    "            delete = True\n",
    "        # check to see if the image should be deleted\n",
    "        if delete:\n",
    "            display(\"[INFO] deleting {}\".format(imagePath))\n",
    "            os.remove(imagePath)"
   ]
  },
  {
   "cell_type": "code",
   "execution_count": 301,
   "metadata": {},
   "outputs": [],
   "source": [
    "for cat in [\"000/\", \"001/\", \"002/\", \"003/\", \"004/\"]:\n",
    "    tox_dir = os.path.join(\"../iNaturalist/toxic_images/\",cat)\n",
    "    clean_image_paths(tox_dir)\n",
    "    nontox_dir = os.path.join(\"../iNaturalist/nontoxic_images/\",cat)\n",
    "    clean_image_paths(nontox_dir)\n"
   ]
  },
  {
   "cell_type": "markdown",
   "metadata": {},
   "source": [
    "Reset image filenames so they are indexed from 000, 001, ... uninterruped."
   ]
  },
  {
   "cell_type": "code",
   "execution_count": null,
   "metadata": {},
   "outputs": [],
   "source": [
    "# p1 = '../toxic_images/'\n",
    "# p2 = '../nontoxic_images/'\n",
    "# paths = [p1+\"000/\", p1+\"001/\", p1+\"002/\", p1+\"003/\", p1+\"004/\", p2+\"000/\"]\n",
    "\n",
    "# for path in paths:\n",
    "#     for i, filename in enumerate(os.listdir(path)):\n",
    "#         if i < 10:\n",
    "#              str_i = \"00\"+str(i)\n",
    "#         elif 9 < i < 100:\n",
    "#             str_i = \"0\"+str(i)\n",
    "#         elif i > 99:\n",
    "#             str_i = str(i)\n",
    "\n",
    "#         os.rename(path + filename, path + str_i + \".jpg\")"
   ]
  },
  {
   "cell_type": "markdown",
   "metadata": {},
   "source": [
    "# Image Counts by Category"
   ]
  },
  {
   "cell_type": "code",
   "execution_count": 307,
   "metadata": {},
   "outputs": [
    {
     "name": "stdout",
     "output_type": "stream",
     "text": [
      "Toxic Images:\n",
      "Category 000/ - Images: 87\n",
      "Category 001/ - Images: 72\n",
      "Category 002/ - Images: 72\n",
      "Category 003/ - Images: 74\n",
      "Category 004/ - Images: 89\n",
      "total =  394\n",
      "\n",
      "Nontoxic Images:\n",
      "Category 000/ - Images: 96\n",
      "Category 001/ - Images: 86\n",
      "Category 002/ - Images: 82\n",
      "Category 003/ - Images: 57\n",
      "Category 004/ - Images: 67\n",
      "total =  388\n"
     ]
    }
   ],
   "source": [
    "# Final Image Counts: \n",
    "p1 = \"../iNaturalist/toxic_images/\"\n",
    "p2 = \"../iNaturalist/nontoxic_images/\"\n",
    "\n",
    "print(\"Toxic Images:\")\n",
    "total = 0\n",
    "for c in ['000/', '001/', '002/', '003/', '004/']:\n",
    "    pth = os.path.join(p1, c)\n",
    "    ims = len([name for name in os.listdir(pth)])\n",
    "    total += ims\n",
    "    print(f\"Category {c} - Images: {ims}\")\n",
    "print(\"total = \", total)\n",
    "\n",
    "print(\"\")\n",
    "print(\"Nontoxic Images:\")\n",
    "total = 0\n",
    "for c in ['000/', '001/', '002/', '003/', '004/']:\n",
    "    pth = os.path.join(p2, c)\n",
    "    ims = len([name for name in os.listdir(pth)])\n",
    "    total += ims\n",
    "    print(f\"Category {c} - Images: {ims}\")\n",
    "print(\"total = \", total)\n"
   ]
  }
 ],
 "metadata": {
  "kernelspec": {
   "display_name": "Python 3.10.4 ('.venv': venv)",
   "language": "python",
   "name": "python3"
  },
  "language_info": {
   "codemirror_mode": {
    "name": "ipython",
    "version": 3
   },
   "file_extension": ".py",
   "mimetype": "text/x-python",
   "name": "python",
   "nbconvert_exporter": "python",
   "pygments_lexer": "ipython3",
   "version": "3.10.4"
  },
  "orig_nbformat": 4,
  "vscode": {
   "interpreter": {
    "hash": "72b7c579c0b03ccea3cf2d5f942f58bede1912d833b1f5dbc9ab6eb5f84afb80"
   }
  }
 },
 "nbformat": 4,
 "nbformat_minor": 2
}
